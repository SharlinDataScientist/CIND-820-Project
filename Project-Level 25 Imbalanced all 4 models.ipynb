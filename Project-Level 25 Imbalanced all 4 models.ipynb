{
 "cells": [
  {
   "cell_type": "code",
   "execution_count": 2,
   "metadata": {},
   "outputs": [
    {
     "data": {
      "text/plain": [
       "'C:\\\\Users\\\\sharlin.kahlon'"
      ]
     },
     "execution_count": 2,
     "metadata": {},
     "output_type": "execute_result"
    }
   ],
   "source": [
    "pwd"
   ]
  },
  {
   "cell_type": "code",
   "execution_count": 3,
   "metadata": {},
   "outputs": [],
   "source": [
    "import numpy as np\n",
    "import pandas as pd\n",
    "import seaborn as sns\n",
    "from matplotlib import pyplot as plt\n",
    "import matplotlib\n",
    "%matplotlib inline"
   ]
  },
  {
   "cell_type": "code",
   "execution_count": 4,
   "metadata": {},
   "outputs": [
    {
     "data": {
      "text/html": [
       "<div>\n",
       "<style scoped>\n",
       "    .dataframe tbody tr th:only-of-type {\n",
       "        vertical-align: middle;\n",
       "    }\n",
       "\n",
       "    .dataframe tbody tr th {\n",
       "        vertical-align: top;\n",
       "    }\n",
       "\n",
       "    .dataframe thead th {\n",
       "        text-align: right;\n",
       "    }\n",
       "</style>\n",
       "<table border=\"1\" class=\"dataframe\">\n",
       "  <thead>\n",
       "    <tr style=\"text-align: right;\">\n",
       "      <th></th>\n",
       "      <th>id</th>\n",
       "      <th>Issue_Date</th>\n",
       "      <th>Emp_Length_Int</th>\n",
       "      <th>Home_Ownership</th>\n",
       "      <th>Annual_Income</th>\n",
       "      <th>Loan_Amount</th>\n",
       "      <th>Term</th>\n",
       "      <th>Purpose</th>\n",
       "      <th>Interest_Payments</th>\n",
       "      <th>Loan_Status</th>\n",
       "      <th>Interest_Rate</th>\n",
       "      <th>DTI</th>\n",
       "      <th>Total_Payment</th>\n",
       "      <th>Total_Rec_Prncp</th>\n",
       "      <th>Installment</th>\n",
       "      <th>Region</th>\n",
       "    </tr>\n",
       "  </thead>\n",
       "  <tbody>\n",
       "    <tr>\n",
       "      <th>0</th>\n",
       "      <td>643218</td>\n",
       "      <td>01-12-2010</td>\n",
       "      <td>7.0</td>\n",
       "      <td>MORTGAGE</td>\n",
       "      <td>45000</td>\n",
       "      <td>20000.0</td>\n",
       "      <td>60 months</td>\n",
       "      <td>debt_consolidation</td>\n",
       "      <td>Low</td>\n",
       "      <td>Good Loan</td>\n",
       "      <td>9.99</td>\n",
       "      <td>13.36</td>\n",
       "      <td>24421.720000</td>\n",
       "      <td>20000.00</td>\n",
       "      <td>424.85</td>\n",
       "      <td>ulster</td>\n",
       "    </tr>\n",
       "    <tr>\n",
       "      <th>1</th>\n",
       "      <td>642872</td>\n",
       "      <td>01-12-2010</td>\n",
       "      <td>0.5</td>\n",
       "      <td>OWN</td>\n",
       "      <td>145000</td>\n",
       "      <td>7475.0</td>\n",
       "      <td>60 months</td>\n",
       "      <td>debt_consolidation</td>\n",
       "      <td>High</td>\n",
       "      <td>Good Loan</td>\n",
       "      <td>13.72</td>\n",
       "      <td>17.39</td>\n",
       "      <td>10370.742730</td>\n",
       "      <td>7475.00</td>\n",
       "      <td>172.85</td>\n",
       "      <td>leinster</td>\n",
       "    </tr>\n",
       "    <tr>\n",
       "      <th>2</th>\n",
       "      <td>642861</td>\n",
       "      <td>01-12-2010</td>\n",
       "      <td>0.5</td>\n",
       "      <td>MORTGAGE</td>\n",
       "      <td>120000</td>\n",
       "      <td>5575.0</td>\n",
       "      <td>36 months</td>\n",
       "      <td>small_business</td>\n",
       "      <td>High</td>\n",
       "      <td>Good Loan</td>\n",
       "      <td>15.20</td>\n",
       "      <td>16.40</td>\n",
       "      <td>6819.090000</td>\n",
       "      <td>5574.99</td>\n",
       "      <td>193.81</td>\n",
       "      <td>Northern-Irl</td>\n",
       "    </tr>\n",
       "    <tr>\n",
       "      <th>3</th>\n",
       "      <td>642859</td>\n",
       "      <td>01-12-2010</td>\n",
       "      <td>0.5</td>\n",
       "      <td>RENT</td>\n",
       "      <td>120000</td>\n",
       "      <td>2150.0</td>\n",
       "      <td>60 months</td>\n",
       "      <td>debt_consolidation</td>\n",
       "      <td>High</td>\n",
       "      <td>Good Loan</td>\n",
       "      <td>14.83</td>\n",
       "      <td>6.16</td>\n",
       "      <td>2816.830000</td>\n",
       "      <td>2150.00</td>\n",
       "      <td>50.96</td>\n",
       "      <td>Northern-Irl</td>\n",
       "    </tr>\n",
       "    <tr>\n",
       "      <th>4</th>\n",
       "      <td>642857</td>\n",
       "      <td>01-12-2010</td>\n",
       "      <td>0.5</td>\n",
       "      <td>MORTGAGE</td>\n",
       "      <td>140000</td>\n",
       "      <td>7050.0</td>\n",
       "      <td>60 months</td>\n",
       "      <td>moving</td>\n",
       "      <td>Low</td>\n",
       "      <td>Good Loan</td>\n",
       "      <td>12.98</td>\n",
       "      <td>4.26</td>\n",
       "      <td>9619.300001</td>\n",
       "      <td>7050.00</td>\n",
       "      <td>160.34</td>\n",
       "      <td>ulster</td>\n",
       "    </tr>\n",
       "  </tbody>\n",
       "</table>\n",
       "</div>"
      ],
      "text/plain": [
       "       id  Issue_Date  Emp_Length_Int Home_Ownership  Annual_Income  \\\n",
       "0  643218  01-12-2010             7.0       MORTGAGE          45000   \n",
       "1  642872  01-12-2010             0.5            OWN         145000   \n",
       "2  642861  01-12-2010             0.5       MORTGAGE         120000   \n",
       "3  642859  01-12-2010             0.5           RENT         120000   \n",
       "4  642857  01-12-2010             0.5       MORTGAGE         140000   \n",
       "\n",
       "   Loan_Amount        Term             Purpose Interest_Payments Loan_Status  \\\n",
       "0      20000.0   60 months  debt_consolidation               Low   Good Loan   \n",
       "1       7475.0   60 months  debt_consolidation              High   Good Loan   \n",
       "2       5575.0   36 months      small_business              High   Good Loan   \n",
       "3       2150.0   60 months  debt_consolidation              High   Good Loan   \n",
       "4       7050.0   60 months              moving               Low   Good Loan   \n",
       "\n",
       "   Interest_Rate    DTI  Total_Payment  Total_Rec_Prncp  Installment  \\\n",
       "0           9.99  13.36   24421.720000         20000.00       424.85   \n",
       "1          13.72  17.39   10370.742730          7475.00       172.85   \n",
       "2          15.20  16.40    6819.090000          5574.99       193.81   \n",
       "3          14.83   6.16    2816.830000          2150.00        50.96   \n",
       "4          12.98   4.26    9619.300001          7050.00       160.34   \n",
       "\n",
       "         Region  \n",
       "0        ulster  \n",
       "1      leinster  \n",
       "2  Northern-Irl  \n",
       "3  Northern-Irl  \n",
       "4        ulster  "
      ]
     },
     "execution_count": 4,
     "metadata": {},
     "output_type": "execute_result"
    }
   ],
   "source": [
    "#Loading Dataset\n",
    "df= pd.read_csv(\"SKDataset-finalProject.csv\", sep=\",\")\n",
    "df.head()"
   ]
  },
  {
   "cell_type": "code",
   "execution_count": 4,
   "metadata": {},
   "outputs": [
    {
     "data": {
      "text/plain": [
       "(74181, 16)"
      ]
     },
     "execution_count": 4,
     "metadata": {},
     "output_type": "execute_result"
    }
   ],
   "source": [
    "df.shape"
   ]
  },
  {
   "cell_type": "code",
   "execution_count": 5,
   "metadata": {},
   "outputs": [
    {
     "name": "stdout",
     "output_type": "stream",
     "text": [
      "<class 'pandas.core.frame.DataFrame'>\n",
      "RangeIndex: 74181 entries, 0 to 74180\n",
      "Data columns (total 16 columns):\n",
      " #   Column             Non-Null Count  Dtype  \n",
      "---  ------             --------------  -----  \n",
      " 0   id                 74181 non-null  int64  \n",
      " 1   Issue_Date         74181 non-null  object \n",
      " 2   Emp_Length_Int     74181 non-null  float64\n",
      " 3   Home_Ownership     74131 non-null  object \n",
      " 4   Annual_Income      74181 non-null  int64  \n",
      " 5   Loan_Amount        74161 non-null  float64\n",
      " 6   Term               74181 non-null  object \n",
      " 7   Purpose            74181 non-null  object \n",
      " 8   Interest_Payments  74181 non-null  object \n",
      " 9   Loan_Status        74181 non-null  object \n",
      " 10  Interest_Rate      74181 non-null  float64\n",
      " 11  DTI                74181 non-null  float64\n",
      " 12  Total_Payment      74181 non-null  float64\n",
      " 13  Total_Rec_Prncp    74181 non-null  float64\n",
      " 14  Installment        74181 non-null  float64\n",
      " 15  Region             74169 non-null  object \n",
      "dtypes: float64(7), int64(2), object(7)\n",
      "memory usage: 9.1+ MB\n"
     ]
    }
   ],
   "source": [
    "df.info()"
   ]
  },
  {
   "cell_type": "code",
   "execution_count": 6,
   "metadata": {},
   "outputs": [
    {
     "data": {
      "text/plain": [
       "id                    0\n",
       "Issue_Date            0\n",
       "Emp_Length_Int        0\n",
       "Home_Ownership       50\n",
       "Annual_Income         0\n",
       "Loan_Amount          20\n",
       "Term                  0\n",
       "Purpose               0\n",
       "Interest_Payments     0\n",
       "Loan_Status           0\n",
       "Interest_Rate         0\n",
       "DTI                   0\n",
       "Total_Payment         0\n",
       "Total_Rec_Prncp       0\n",
       "Installment           0\n",
       "Region               12\n",
       "dtype: int64"
      ]
     },
     "execution_count": 6,
     "metadata": {},
     "output_type": "execute_result"
    }
   ],
   "source": [
    "df.isnull().sum()"
   ]
  },
  {
   "cell_type": "markdown",
   "metadata": {},
   "source": [
    "Missing Values are removed using mean and mode. "
   ]
  },
  {
   "cell_type": "code",
   "execution_count": 7,
   "metadata": {},
   "outputs": [],
   "source": [
    "#Missing Values for numerical\n",
    "df['Loan_Amount']= df['Loan_Amount'].fillna(df['Loan_Amount'].mean())"
   ]
  },
  {
   "cell_type": "code",
   "execution_count": 8,
   "metadata": {},
   "outputs": [],
   "source": [
    "#for categorical\n",
    "df['Region']= df['Region'].fillna(df['Region'].mode()[0])\n",
    "df['Home_Ownership']= df['Home_Ownership'].fillna(df['Home_Ownership'].mode()[0])"
   ]
  },
  {
   "cell_type": "code",
   "execution_count": 9,
   "metadata": {},
   "outputs": [
    {
     "data": {
      "text/plain": [
       "id                   0\n",
       "Issue_Date           0\n",
       "Emp_Length_Int       0\n",
       "Home_Ownership       0\n",
       "Annual_Income        0\n",
       "Loan_Amount          0\n",
       "Term                 0\n",
       "Purpose              0\n",
       "Interest_Payments    0\n",
       "Loan_Status          0\n",
       "Interest_Rate        0\n",
       "DTI                  0\n",
       "Total_Payment        0\n",
       "Total_Rec_Prncp      0\n",
       "Installment          0\n",
       "Region               0\n",
       "dtype: int64"
      ]
     },
     "execution_count": 9,
     "metadata": {},
     "output_type": "execute_result"
    }
   ],
   "source": [
    "df.isnull().sum()"
   ]
  },
  {
   "cell_type": "code",
   "execution_count": 10,
   "metadata": {},
   "outputs": [],
   "source": [
    "#Label Encoding\n",
    "df.replace({\"Loan_Status\":{'Bad Loan':0,'Good Loan':1}},inplace= True)"
   ]
  },
  {
   "cell_type": "code",
   "execution_count": 11,
   "metadata": {
    "scrolled": true
   },
   "outputs": [
    {
     "data": {
      "text/html": [
       "<div>\n",
       "<style scoped>\n",
       "    .dataframe tbody tr th:only-of-type {\n",
       "        vertical-align: middle;\n",
       "    }\n",
       "\n",
       "    .dataframe tbody tr th {\n",
       "        vertical-align: top;\n",
       "    }\n",
       "\n",
       "    .dataframe thead th {\n",
       "        text-align: right;\n",
       "    }\n",
       "</style>\n",
       "<table border=\"1\" class=\"dataframe\">\n",
       "  <thead>\n",
       "    <tr style=\"text-align: right;\">\n",
       "      <th></th>\n",
       "      <th>id</th>\n",
       "      <th>Issue_Date</th>\n",
       "      <th>Emp_Length_Int</th>\n",
       "      <th>Home_Ownership</th>\n",
       "      <th>Annual_Income</th>\n",
       "      <th>Loan_Amount</th>\n",
       "      <th>Term</th>\n",
       "      <th>Purpose</th>\n",
       "      <th>Interest_Payments</th>\n",
       "      <th>Loan_Status</th>\n",
       "      <th>Interest_Rate</th>\n",
       "      <th>DTI</th>\n",
       "      <th>Total_Payment</th>\n",
       "      <th>Total_Rec_Prncp</th>\n",
       "      <th>Installment</th>\n",
       "      <th>Region</th>\n",
       "    </tr>\n",
       "  </thead>\n",
       "  <tbody>\n",
       "    <tr>\n",
       "      <th>0</th>\n",
       "      <td>643218</td>\n",
       "      <td>01-12-2010</td>\n",
       "      <td>7.0</td>\n",
       "      <td>MORTGAGE</td>\n",
       "      <td>45000</td>\n",
       "      <td>20000.0</td>\n",
       "      <td>60 months</td>\n",
       "      <td>debt_consolidation</td>\n",
       "      <td>Low</td>\n",
       "      <td>1</td>\n",
       "      <td>9.99</td>\n",
       "      <td>13.36</td>\n",
       "      <td>24421.720000</td>\n",
       "      <td>20000.00</td>\n",
       "      <td>424.85</td>\n",
       "      <td>ulster</td>\n",
       "    </tr>\n",
       "    <tr>\n",
       "      <th>1</th>\n",
       "      <td>642872</td>\n",
       "      <td>01-12-2010</td>\n",
       "      <td>0.5</td>\n",
       "      <td>OWN</td>\n",
       "      <td>145000</td>\n",
       "      <td>7475.0</td>\n",
       "      <td>60 months</td>\n",
       "      <td>debt_consolidation</td>\n",
       "      <td>High</td>\n",
       "      <td>1</td>\n",
       "      <td>13.72</td>\n",
       "      <td>17.39</td>\n",
       "      <td>10370.742730</td>\n",
       "      <td>7475.00</td>\n",
       "      <td>172.85</td>\n",
       "      <td>leinster</td>\n",
       "    </tr>\n",
       "    <tr>\n",
       "      <th>2</th>\n",
       "      <td>642861</td>\n",
       "      <td>01-12-2010</td>\n",
       "      <td>0.5</td>\n",
       "      <td>MORTGAGE</td>\n",
       "      <td>120000</td>\n",
       "      <td>5575.0</td>\n",
       "      <td>36 months</td>\n",
       "      <td>small_business</td>\n",
       "      <td>High</td>\n",
       "      <td>1</td>\n",
       "      <td>15.20</td>\n",
       "      <td>16.40</td>\n",
       "      <td>6819.090000</td>\n",
       "      <td>5574.99</td>\n",
       "      <td>193.81</td>\n",
       "      <td>Northern-Irl</td>\n",
       "    </tr>\n",
       "    <tr>\n",
       "      <th>3</th>\n",
       "      <td>642859</td>\n",
       "      <td>01-12-2010</td>\n",
       "      <td>0.5</td>\n",
       "      <td>RENT</td>\n",
       "      <td>120000</td>\n",
       "      <td>2150.0</td>\n",
       "      <td>60 months</td>\n",
       "      <td>debt_consolidation</td>\n",
       "      <td>High</td>\n",
       "      <td>1</td>\n",
       "      <td>14.83</td>\n",
       "      <td>6.16</td>\n",
       "      <td>2816.830000</td>\n",
       "      <td>2150.00</td>\n",
       "      <td>50.96</td>\n",
       "      <td>Northern-Irl</td>\n",
       "    </tr>\n",
       "    <tr>\n",
       "      <th>4</th>\n",
       "      <td>642857</td>\n",
       "      <td>01-12-2010</td>\n",
       "      <td>0.5</td>\n",
       "      <td>MORTGAGE</td>\n",
       "      <td>140000</td>\n",
       "      <td>7050.0</td>\n",
       "      <td>60 months</td>\n",
       "      <td>moving</td>\n",
       "      <td>Low</td>\n",
       "      <td>1</td>\n",
       "      <td>12.98</td>\n",
       "      <td>4.26</td>\n",
       "      <td>9619.300001</td>\n",
       "      <td>7050.00</td>\n",
       "      <td>160.34</td>\n",
       "      <td>ulster</td>\n",
       "    </tr>\n",
       "  </tbody>\n",
       "</table>\n",
       "</div>"
      ],
      "text/plain": [
       "       id  Issue_Date  Emp_Length_Int Home_Ownership  Annual_Income  \\\n",
       "0  643218  01-12-2010             7.0       MORTGAGE          45000   \n",
       "1  642872  01-12-2010             0.5            OWN         145000   \n",
       "2  642861  01-12-2010             0.5       MORTGAGE         120000   \n",
       "3  642859  01-12-2010             0.5           RENT         120000   \n",
       "4  642857  01-12-2010             0.5       MORTGAGE         140000   \n",
       "\n",
       "   Loan_Amount        Term             Purpose Interest_Payments  Loan_Status  \\\n",
       "0      20000.0   60 months  debt_consolidation               Low            1   \n",
       "1       7475.0   60 months  debt_consolidation              High            1   \n",
       "2       5575.0   36 months      small_business              High            1   \n",
       "3       2150.0   60 months  debt_consolidation              High            1   \n",
       "4       7050.0   60 months              moving               Low            1   \n",
       "\n",
       "   Interest_Rate    DTI  Total_Payment  Total_Rec_Prncp  Installment  \\\n",
       "0           9.99  13.36   24421.720000         20000.00       424.85   \n",
       "1          13.72  17.39   10370.742730          7475.00       172.85   \n",
       "2          15.20  16.40    6819.090000          5574.99       193.81   \n",
       "3          14.83   6.16    2816.830000          2150.00        50.96   \n",
       "4          12.98   4.26    9619.300001          7050.00       160.34   \n",
       "\n",
       "         Region  \n",
       "0        ulster  \n",
       "1      leinster  \n",
       "2  Northern-Irl  \n",
       "3  Northern-Irl  \n",
       "4        ulster  "
      ]
     },
     "execution_count": 11,
     "metadata": {},
     "output_type": "execute_result"
    }
   ],
   "source": [
    "df.head()"
   ]
  },
  {
   "cell_type": "markdown",
   "metadata": {},
   "source": [
    "Descriptive Statistics-\n",
    "This is to calculate basic statistics for all continous variables. \n",
    "Describe functions- give values of Mean, IQR values, Min, Max value and Standard Deviation\n",
    "#For Numerical attributes:- "
   ]
  },
  {
   "cell_type": "code",
   "execution_count": 12,
   "metadata": {},
   "outputs": [
    {
     "data": {
      "text/html": [
       "<div>\n",
       "<style scoped>\n",
       "    .dataframe tbody tr th:only-of-type {\n",
       "        vertical-align: middle;\n",
       "    }\n",
       "\n",
       "    .dataframe tbody tr th {\n",
       "        vertical-align: top;\n",
       "    }\n",
       "\n",
       "    .dataframe thead th {\n",
       "        text-align: right;\n",
       "    }\n",
       "</style>\n",
       "<table border=\"1\" class=\"dataframe\">\n",
       "  <thead>\n",
       "    <tr style=\"text-align: right;\">\n",
       "      <th></th>\n",
       "      <th>id</th>\n",
       "      <th>Emp_Length_Int</th>\n",
       "      <th>Annual_Income</th>\n",
       "      <th>Loan_Amount</th>\n",
       "      <th>Loan_Status</th>\n",
       "      <th>Interest_Rate</th>\n",
       "      <th>DTI</th>\n",
       "      <th>Total_Payment</th>\n",
       "      <th>Total_Rec_Prncp</th>\n",
       "      <th>Installment</th>\n",
       "    </tr>\n",
       "  </thead>\n",
       "  <tbody>\n",
       "    <tr>\n",
       "      <th>count</th>\n",
       "      <td>7.418100e+04</td>\n",
       "      <td>74181.000000</td>\n",
       "      <td>7.418100e+04</td>\n",
       "      <td>74181.000000</td>\n",
       "      <td>74181.000000</td>\n",
       "      <td>74181.000000</td>\n",
       "      <td>74181.000000</td>\n",
       "      <td>74181.000000</td>\n",
       "      <td>74181.000000</td>\n",
       "      <td>74181.000000</td>\n",
       "    </tr>\n",
       "    <tr>\n",
       "      <th>mean</th>\n",
       "      <td>1.237230e+06</td>\n",
       "      <td>5.486336</td>\n",
       "      <td>6.946324e+04</td>\n",
       "      <td>12515.776149</td>\n",
       "      <td>0.843868</td>\n",
       "      <td>13.207386</td>\n",
       "      <td>15.600123</td>\n",
       "      <td>13408.011613</td>\n",
       "      <td>10651.045665</td>\n",
       "      <td>389.389523</td>\n",
       "    </tr>\n",
       "    <tr>\n",
       "      <th>std</th>\n",
       "      <td>5.702563e+05</td>\n",
       "      <td>3.466796</td>\n",
       "      <td>6.455445e+04</td>\n",
       "      <td>7793.699152</td>\n",
       "      <td>0.362983</td>\n",
       "      <td>4.131073</td>\n",
       "      <td>7.544646</td>\n",
       "      <td>9281.509370</td>\n",
       "      <td>7350.064745</td>\n",
       "      <td>239.220559</td>\n",
       "    </tr>\n",
       "    <tr>\n",
       "      <th>min</th>\n",
       "      <td>5.473400e+04</td>\n",
       "      <td>0.500000</td>\n",
       "      <td>1.896000e+03</td>\n",
       "      <td>500.000000</td>\n",
       "      <td>0.000000</td>\n",
       "      <td>5.420000</td>\n",
       "      <td>0.000000</td>\n",
       "      <td>0.000000</td>\n",
       "      <td>0.000000</td>\n",
       "      <td>15.670000</td>\n",
       "    </tr>\n",
       "    <tr>\n",
       "      <th>25%</th>\n",
       "      <td>6.073330e+05</td>\n",
       "      <td>2.000000</td>\n",
       "      <td>4.200000e+04</td>\n",
       "      <td>6400.000000</td>\n",
       "      <td>1.000000</td>\n",
       "      <td>10.160000</td>\n",
       "      <td>9.970000</td>\n",
       "      <td>6444.386955</td>\n",
       "      <td>5000.000000</td>\n",
       "      <td>205.010000</td>\n",
       "    </tr>\n",
       "    <tr>\n",
       "      <th>50%</th>\n",
       "      <td>1.325061e+06</td>\n",
       "      <td>5.000000</td>\n",
       "      <td>6.000000e+04</td>\n",
       "      <td>10250.000000</td>\n",
       "      <td>1.000000</td>\n",
       "      <td>13.110000</td>\n",
       "      <td>15.450000</td>\n",
       "      <td>11445.370000</td>\n",
       "      <td>9600.000000</td>\n",
       "      <td>343.390000</td>\n",
       "    </tr>\n",
       "    <tr>\n",
       "      <th>75%</th>\n",
       "      <td>1.550404e+06</td>\n",
       "      <td>10.000000</td>\n",
       "      <td>8.320000e+04</td>\n",
       "      <td>17050.000000</td>\n",
       "      <td>1.000000</td>\n",
       "      <td>15.800000</td>\n",
       "      <td>20.990000</td>\n",
       "      <td>18205.170000</td>\n",
       "      <td>14950.000000</td>\n",
       "      <td>515.740000</td>\n",
       "    </tr>\n",
       "    <tr>\n",
       "      <th>max</th>\n",
       "      <td>2.844673e+06</td>\n",
       "      <td>10.000000</td>\n",
       "      <td>7.141778e+06</td>\n",
       "      <td>35000.000000</td>\n",
       "      <td>1.000000</td>\n",
       "      <td>24.890000</td>\n",
       "      <td>34.990000</td>\n",
       "      <td>57777.579870</td>\n",
       "      <td>35000.010000</td>\n",
       "      <td>1388.450000</td>\n",
       "    </tr>\n",
       "  </tbody>\n",
       "</table>\n",
       "</div>"
      ],
      "text/plain": [
       "                 id  Emp_Length_Int  Annual_Income   Loan_Amount  \\\n",
       "count  7.418100e+04    74181.000000   7.418100e+04  74181.000000   \n",
       "mean   1.237230e+06        5.486336   6.946324e+04  12515.776149   \n",
       "std    5.702563e+05        3.466796   6.455445e+04   7793.699152   \n",
       "min    5.473400e+04        0.500000   1.896000e+03    500.000000   \n",
       "25%    6.073330e+05        2.000000   4.200000e+04   6400.000000   \n",
       "50%    1.325061e+06        5.000000   6.000000e+04  10250.000000   \n",
       "75%    1.550404e+06       10.000000   8.320000e+04  17050.000000   \n",
       "max    2.844673e+06       10.000000   7.141778e+06  35000.000000   \n",
       "\n",
       "        Loan_Status  Interest_Rate           DTI  Total_Payment  \\\n",
       "count  74181.000000   74181.000000  74181.000000   74181.000000   \n",
       "mean       0.843868      13.207386     15.600123   13408.011613   \n",
       "std        0.362983       4.131073      7.544646    9281.509370   \n",
       "min        0.000000       5.420000      0.000000       0.000000   \n",
       "25%        1.000000      10.160000      9.970000    6444.386955   \n",
       "50%        1.000000      13.110000     15.450000   11445.370000   \n",
       "75%        1.000000      15.800000     20.990000   18205.170000   \n",
       "max        1.000000      24.890000     34.990000   57777.579870   \n",
       "\n",
       "       Total_Rec_Prncp   Installment  \n",
       "count     74181.000000  74181.000000  \n",
       "mean      10651.045665    389.389523  \n",
       "std        7350.064745    239.220559  \n",
       "min           0.000000     15.670000  \n",
       "25%        5000.000000    205.010000  \n",
       "50%        9600.000000    343.390000  \n",
       "75%       14950.000000    515.740000  \n",
       "max       35000.010000   1388.450000  "
      ]
     },
     "execution_count": 12,
     "metadata": {},
     "output_type": "execute_result"
    }
   ],
   "source": [
    "df.describe()"
   ]
  },
  {
   "cell_type": "markdown",
   "metadata": {},
   "source": [
    "Summary Statistics of character column. "
   ]
  },
  {
   "cell_type": "code",
   "execution_count": 13,
   "metadata": {},
   "outputs": [
    {
     "data": {
      "text/html": [
       "<div>\n",
       "<style scoped>\n",
       "    .dataframe tbody tr th:only-of-type {\n",
       "        vertical-align: middle;\n",
       "    }\n",
       "\n",
       "    .dataframe tbody tr th {\n",
       "        vertical-align: top;\n",
       "    }\n",
       "\n",
       "    .dataframe thead th {\n",
       "        text-align: right;\n",
       "    }\n",
       "</style>\n",
       "<table border=\"1\" class=\"dataframe\">\n",
       "  <thead>\n",
       "    <tr style=\"text-align: right;\">\n",
       "      <th></th>\n",
       "      <th>Issue_Date</th>\n",
       "      <th>Home_Ownership</th>\n",
       "      <th>Term</th>\n",
       "      <th>Purpose</th>\n",
       "      <th>Interest_Payments</th>\n",
       "      <th>Region</th>\n",
       "    </tr>\n",
       "  </thead>\n",
       "  <tbody>\n",
       "    <tr>\n",
       "      <th>count</th>\n",
       "      <td>74181</td>\n",
       "      <td>74181</td>\n",
       "      <td>74181</td>\n",
       "      <td>74181</td>\n",
       "      <td>74181</td>\n",
       "      <td>74181</td>\n",
       "    </tr>\n",
       "    <tr>\n",
       "      <th>unique</th>\n",
       "      <td>55</td>\n",
       "      <td>4</td>\n",
       "      <td>2</td>\n",
       "      <td>14</td>\n",
       "      <td>2</td>\n",
       "      <td>5</td>\n",
       "    </tr>\n",
       "    <tr>\n",
       "      <th>top</th>\n",
       "      <td>01-11-2012</td>\n",
       "      <td>RENT</td>\n",
       "      <td>36 months</td>\n",
       "      <td>debt_consolidation</td>\n",
       "      <td>Low</td>\n",
       "      <td>ulster</td>\n",
       "    </tr>\n",
       "    <tr>\n",
       "      <th>freq</th>\n",
       "      <td>6382</td>\n",
       "      <td>34413</td>\n",
       "      <td>60903</td>\n",
       "      <td>39917</td>\n",
       "      <td>39226</td>\n",
       "      <td>19394</td>\n",
       "    </tr>\n",
       "  </tbody>\n",
       "</table>\n",
       "</div>"
      ],
      "text/plain": [
       "        Issue_Date Home_Ownership        Term             Purpose  \\\n",
       "count        74181          74181       74181               74181   \n",
       "unique          55              4           2                  14   \n",
       "top     01-11-2012           RENT   36 months  debt_consolidation   \n",
       "freq          6382          34413       60903               39917   \n",
       "\n",
       "       Interest_Payments  Region  \n",
       "count              74181   74181  \n",
       "unique                 2       5  \n",
       "top                  Low  ulster  \n",
       "freq               39226   19394  "
      ]
     },
     "execution_count": 13,
     "metadata": {},
     "output_type": "execute_result"
    }
   ],
   "source": [
    "df.describe(include=['object'])"
   ]
  },
  {
   "cell_type": "markdown",
   "metadata": {},
   "source": [
    "Median"
   ]
  },
  {
   "cell_type": "code",
   "execution_count": 14,
   "metadata": {},
   "outputs": [
    {
     "data": {
      "text/plain": [
       "id                 1325061.00\n",
       "Emp_Length_Int           5.00\n",
       "Annual_Income        60000.00\n",
       "Loan_Amount          10250.00\n",
       "Loan_Status              1.00\n",
       "Interest_Rate           13.11\n",
       "DTI                     15.45\n",
       "Total_Payment        11445.37\n",
       "Total_Rec_Prncp       9600.00\n",
       "Installment            343.39\n",
       "dtype: float64"
      ]
     },
     "execution_count": 14,
     "metadata": {},
     "output_type": "execute_result"
    }
   ],
   "source": [
    "df.median()"
   ]
  },
  {
   "cell_type": "markdown",
   "metadata": {},
   "source": [
    "Mode"
   ]
  },
  {
   "cell_type": "code",
   "execution_count": 15,
   "metadata": {},
   "outputs": [
    {
     "data": {
      "text/html": [
       "<div>\n",
       "<style scoped>\n",
       "    .dataframe tbody tr th:only-of-type {\n",
       "        vertical-align: middle;\n",
       "    }\n",
       "\n",
       "    .dataframe tbody tr th {\n",
       "        vertical-align: top;\n",
       "    }\n",
       "\n",
       "    .dataframe thead th {\n",
       "        text-align: right;\n",
       "    }\n",
       "</style>\n",
       "<table border=\"1\" class=\"dataframe\">\n",
       "  <thead>\n",
       "    <tr style=\"text-align: right;\">\n",
       "      <th></th>\n",
       "      <th>id</th>\n",
       "      <th>Issue_Date</th>\n",
       "      <th>Emp_Length_Int</th>\n",
       "      <th>Home_Ownership</th>\n",
       "      <th>Annual_Income</th>\n",
       "      <th>Loan_Amount</th>\n",
       "      <th>Term</th>\n",
       "      <th>Purpose</th>\n",
       "      <th>Interest_Payments</th>\n",
       "      <th>Loan_Status</th>\n",
       "      <th>Interest_Rate</th>\n",
       "      <th>DTI</th>\n",
       "      <th>Total_Payment</th>\n",
       "      <th>Total_Rec_Prncp</th>\n",
       "      <th>Installment</th>\n",
       "      <th>Region</th>\n",
       "    </tr>\n",
       "  </thead>\n",
       "  <tbody>\n",
       "    <tr>\n",
       "      <th>0</th>\n",
       "      <td>54734</td>\n",
       "      <td>01-11-2012</td>\n",
       "      <td>10.0</td>\n",
       "      <td>RENT</td>\n",
       "      <td>60000.0</td>\n",
       "      <td>10000.0</td>\n",
       "      <td>36 months</td>\n",
       "      <td>debt_consolidation</td>\n",
       "      <td>Low</td>\n",
       "      <td>1.0</td>\n",
       "      <td>12.12</td>\n",
       "      <td>0.0</td>\n",
       "      <td>11977.77039</td>\n",
       "      <td>10000.0</td>\n",
       "      <td>332.72</td>\n",
       "      <td>ulster</td>\n",
       "    </tr>\n",
       "    <tr>\n",
       "      <th>1</th>\n",
       "      <td>55521</td>\n",
       "      <td>NaN</td>\n",
       "      <td>NaN</td>\n",
       "      <td>NaN</td>\n",
       "      <td>NaN</td>\n",
       "      <td>NaN</td>\n",
       "      <td>NaN</td>\n",
       "      <td>NaN</td>\n",
       "      <td>NaN</td>\n",
       "      <td>NaN</td>\n",
       "      <td>NaN</td>\n",
       "      <td>NaN</td>\n",
       "      <td>NaN</td>\n",
       "      <td>NaN</td>\n",
       "      <td>NaN</td>\n",
       "      <td>NaN</td>\n",
       "    </tr>\n",
       "    <tr>\n",
       "      <th>2</th>\n",
       "      <td>55742</td>\n",
       "      <td>NaN</td>\n",
       "      <td>NaN</td>\n",
       "      <td>NaN</td>\n",
       "      <td>NaN</td>\n",
       "      <td>NaN</td>\n",
       "      <td>NaN</td>\n",
       "      <td>NaN</td>\n",
       "      <td>NaN</td>\n",
       "      <td>NaN</td>\n",
       "      <td>NaN</td>\n",
       "      <td>NaN</td>\n",
       "      <td>NaN</td>\n",
       "      <td>NaN</td>\n",
       "      <td>NaN</td>\n",
       "      <td>NaN</td>\n",
       "    </tr>\n",
       "    <tr>\n",
       "      <th>3</th>\n",
       "      <td>56413</td>\n",
       "      <td>NaN</td>\n",
       "      <td>NaN</td>\n",
       "      <td>NaN</td>\n",
       "      <td>NaN</td>\n",
       "      <td>NaN</td>\n",
       "      <td>NaN</td>\n",
       "      <td>NaN</td>\n",
       "      <td>NaN</td>\n",
       "      <td>NaN</td>\n",
       "      <td>NaN</td>\n",
       "      <td>NaN</td>\n",
       "      <td>NaN</td>\n",
       "      <td>NaN</td>\n",
       "      <td>NaN</td>\n",
       "      <td>NaN</td>\n",
       "    </tr>\n",
       "    <tr>\n",
       "      <th>4</th>\n",
       "      <td>57245</td>\n",
       "      <td>NaN</td>\n",
       "      <td>NaN</td>\n",
       "      <td>NaN</td>\n",
       "      <td>NaN</td>\n",
       "      <td>NaN</td>\n",
       "      <td>NaN</td>\n",
       "      <td>NaN</td>\n",
       "      <td>NaN</td>\n",
       "      <td>NaN</td>\n",
       "      <td>NaN</td>\n",
       "      <td>NaN</td>\n",
       "      <td>NaN</td>\n",
       "      <td>NaN</td>\n",
       "      <td>NaN</td>\n",
       "      <td>NaN</td>\n",
       "    </tr>\n",
       "    <tr>\n",
       "      <th>...</th>\n",
       "      <td>...</td>\n",
       "      <td>...</td>\n",
       "      <td>...</td>\n",
       "      <td>...</td>\n",
       "      <td>...</td>\n",
       "      <td>...</td>\n",
       "      <td>...</td>\n",
       "      <td>...</td>\n",
       "      <td>...</td>\n",
       "      <td>...</td>\n",
       "      <td>...</td>\n",
       "      <td>...</td>\n",
       "      <td>...</td>\n",
       "      <td>...</td>\n",
       "      <td>...</td>\n",
       "      <td>...</td>\n",
       "    </tr>\n",
       "    <tr>\n",
       "      <th>74176</th>\n",
       "      <td>2837228</td>\n",
       "      <td>NaN</td>\n",
       "      <td>NaN</td>\n",
       "      <td>NaN</td>\n",
       "      <td>NaN</td>\n",
       "      <td>NaN</td>\n",
       "      <td>NaN</td>\n",
       "      <td>NaN</td>\n",
       "      <td>NaN</td>\n",
       "      <td>NaN</td>\n",
       "      <td>NaN</td>\n",
       "      <td>NaN</td>\n",
       "      <td>NaN</td>\n",
       "      <td>NaN</td>\n",
       "      <td>NaN</td>\n",
       "      <td>NaN</td>\n",
       "    </tr>\n",
       "    <tr>\n",
       "      <th>74177</th>\n",
       "      <td>2837301</td>\n",
       "      <td>NaN</td>\n",
       "      <td>NaN</td>\n",
       "      <td>NaN</td>\n",
       "      <td>NaN</td>\n",
       "      <td>NaN</td>\n",
       "      <td>NaN</td>\n",
       "      <td>NaN</td>\n",
       "      <td>NaN</td>\n",
       "      <td>NaN</td>\n",
       "      <td>NaN</td>\n",
       "      <td>NaN</td>\n",
       "      <td>NaN</td>\n",
       "      <td>NaN</td>\n",
       "      <td>NaN</td>\n",
       "      <td>NaN</td>\n",
       "    </tr>\n",
       "    <tr>\n",
       "      <th>74178</th>\n",
       "      <td>2837644</td>\n",
       "      <td>NaN</td>\n",
       "      <td>NaN</td>\n",
       "      <td>NaN</td>\n",
       "      <td>NaN</td>\n",
       "      <td>NaN</td>\n",
       "      <td>NaN</td>\n",
       "      <td>NaN</td>\n",
       "      <td>NaN</td>\n",
       "      <td>NaN</td>\n",
       "      <td>NaN</td>\n",
       "      <td>NaN</td>\n",
       "      <td>NaN</td>\n",
       "      <td>NaN</td>\n",
       "      <td>NaN</td>\n",
       "      <td>NaN</td>\n",
       "    </tr>\n",
       "    <tr>\n",
       "      <th>74179</th>\n",
       "      <td>2837824</td>\n",
       "      <td>NaN</td>\n",
       "      <td>NaN</td>\n",
       "      <td>NaN</td>\n",
       "      <td>NaN</td>\n",
       "      <td>NaN</td>\n",
       "      <td>NaN</td>\n",
       "      <td>NaN</td>\n",
       "      <td>NaN</td>\n",
       "      <td>NaN</td>\n",
       "      <td>NaN</td>\n",
       "      <td>NaN</td>\n",
       "      <td>NaN</td>\n",
       "      <td>NaN</td>\n",
       "      <td>NaN</td>\n",
       "      <td>NaN</td>\n",
       "    </tr>\n",
       "    <tr>\n",
       "      <th>74180</th>\n",
       "      <td>2844673</td>\n",
       "      <td>NaN</td>\n",
       "      <td>NaN</td>\n",
       "      <td>NaN</td>\n",
       "      <td>NaN</td>\n",
       "      <td>NaN</td>\n",
       "      <td>NaN</td>\n",
       "      <td>NaN</td>\n",
       "      <td>NaN</td>\n",
       "      <td>NaN</td>\n",
       "      <td>NaN</td>\n",
       "      <td>NaN</td>\n",
       "      <td>NaN</td>\n",
       "      <td>NaN</td>\n",
       "      <td>NaN</td>\n",
       "      <td>NaN</td>\n",
       "    </tr>\n",
       "  </tbody>\n",
       "</table>\n",
       "<p>74181 rows × 16 columns</p>\n",
       "</div>"
      ],
      "text/plain": [
       "            id  Issue_Date  Emp_Length_Int Home_Ownership  Annual_Income  \\\n",
       "0        54734  01-11-2012            10.0           RENT        60000.0   \n",
       "1        55521         NaN             NaN            NaN            NaN   \n",
       "2        55742         NaN             NaN            NaN            NaN   \n",
       "3        56413         NaN             NaN            NaN            NaN   \n",
       "4        57245         NaN             NaN            NaN            NaN   \n",
       "...        ...         ...             ...            ...            ...   \n",
       "74176  2837228         NaN             NaN            NaN            NaN   \n",
       "74177  2837301         NaN             NaN            NaN            NaN   \n",
       "74178  2837644         NaN             NaN            NaN            NaN   \n",
       "74179  2837824         NaN             NaN            NaN            NaN   \n",
       "74180  2844673         NaN             NaN            NaN            NaN   \n",
       "\n",
       "       Loan_Amount        Term             Purpose Interest_Payments  \\\n",
       "0          10000.0   36 months  debt_consolidation               Low   \n",
       "1              NaN         NaN                 NaN               NaN   \n",
       "2              NaN         NaN                 NaN               NaN   \n",
       "3              NaN         NaN                 NaN               NaN   \n",
       "4              NaN         NaN                 NaN               NaN   \n",
       "...            ...         ...                 ...               ...   \n",
       "74176          NaN         NaN                 NaN               NaN   \n",
       "74177          NaN         NaN                 NaN               NaN   \n",
       "74178          NaN         NaN                 NaN               NaN   \n",
       "74179          NaN         NaN                 NaN               NaN   \n",
       "74180          NaN         NaN                 NaN               NaN   \n",
       "\n",
       "       Loan_Status  Interest_Rate  DTI  Total_Payment  Total_Rec_Prncp  \\\n",
       "0              1.0          12.12  0.0    11977.77039          10000.0   \n",
       "1              NaN            NaN  NaN            NaN              NaN   \n",
       "2              NaN            NaN  NaN            NaN              NaN   \n",
       "3              NaN            NaN  NaN            NaN              NaN   \n",
       "4              NaN            NaN  NaN            NaN              NaN   \n",
       "...            ...            ...  ...            ...              ...   \n",
       "74176          NaN            NaN  NaN            NaN              NaN   \n",
       "74177          NaN            NaN  NaN            NaN              NaN   \n",
       "74178          NaN            NaN  NaN            NaN              NaN   \n",
       "74179          NaN            NaN  NaN            NaN              NaN   \n",
       "74180          NaN            NaN  NaN            NaN              NaN   \n",
       "\n",
       "       Installment  Region  \n",
       "0           332.72  ulster  \n",
       "1              NaN     NaN  \n",
       "2              NaN     NaN  \n",
       "3              NaN     NaN  \n",
       "4              NaN     NaN  \n",
       "...            ...     ...  \n",
       "74176          NaN     NaN  \n",
       "74177          NaN     NaN  \n",
       "74178          NaN     NaN  \n",
       "74179          NaN     NaN  \n",
       "74180          NaN     NaN  \n",
       "\n",
       "[74181 rows x 16 columns]"
      ]
     },
     "execution_count": 15,
     "metadata": {},
     "output_type": "execute_result"
    }
   ],
   "source": [
    "df.mode()"
   ]
  },
  {
   "cell_type": "markdown",
   "metadata": {},
   "source": [
    "Exploratory Data Analysis"
   ]
  },
  {
   "cell_type": "code",
   "execution_count": 15,
   "metadata": {},
   "outputs": [
    {
     "data": {
      "text/plain": [
       "<matplotlib.axes._subplots.AxesSubplot at 0x189ef4aa0a0>"
      ]
     },
     "execution_count": 15,
     "metadata": {},
     "output_type": "execute_result"
    },
    {
     "data": {
      "image/png": "[encoded data removed]",
      "text/plain": [
       "<Figure size 432x288 with 1 Axes>"
      ]
     },
     "metadata": {
      "needs_background": "light"
     },
     "output_type": "display_data"
    }
   ],
   "source": [
    "sns.countplot(df['Home_Ownership'])"
   ]
  },
  {
   "cell_type": "code",
   "execution_count": 54,
   "metadata": {},
   "outputs": [
    {
     "data": {
      "text/plain": [
       "<matplotlib.axes._subplots.AxesSubplot at 0x2743575d6a0>"
      ]
     },
     "execution_count": 54,
     "metadata": {},
     "output_type": "execute_result"
    },
    {
     "data": {
      "image/png": "[encoded data removed]",
      "text/plain": [
       "<Figure size 432x288 with 1 Axes>"
      ]
     },
     "metadata": {
      "needs_background": "light"
     },
     "output_type": "display_data"
    }
   ],
   "source": [
    "sns.countplot(df['Region'])"
   ]
  },
  {
   "cell_type": "markdown",
   "metadata": {},
   "source": [
    "We can say data is imbalanced - hence we need to balance dataset for better accuracy. "
   ]
  },
  {
   "cell_type": "code",
   "execution_count": 55,
   "metadata": {},
   "outputs": [
    {
     "data": {
      "text/plain": [
       "<matplotlib.axes._subplots.AxesSubplot at 0x274354e60a0>"
      ]
     },
     "execution_count": 55,
     "metadata": {},
     "output_type": "execute_result"
    },
    {
     "data": {
      "image/png": "[encoded data removed]",
      "text/plain": [
       "<Figure size 432x288 with 1 Axes>"
      ]
     },
     "metadata": {
      "needs_background": "light"
     },
     "output_type": "display_data"
    }
   ],
   "source": [
    "sns.countplot(df['Loan_Status'])"
   ]
  },
  {
   "cell_type": "code",
   "execution_count": 16,
   "metadata": {},
   "outputs": [
    {
     "data": {
      "text/plain": [
       "<matplotlib.axes._subplots.AxesSubplot at 0x189edce8730>"
      ]
     },
     "execution_count": 16,
     "metadata": {},
     "output_type": "execute_result"
    },
    {
     "data": {
      "image/png": "[encoded data removed]",
      "text/plain": [
       "<Figure size 432x288 with 1 Axes>"
      ]
     },
     "metadata": {
      "needs_background": "light"
     },
     "output_type": "display_data"
    }
   ],
   "source": [
    "sns.countplot(x='Term', hue='Loan_Status', data=df)"
   ]
  },
  {
   "cell_type": "code",
   "execution_count": 17,
   "metadata": {
    "scrolled": true
   },
   "outputs": [
    {
     "data": {
      "text/plain": [
       "<matplotlib.axes._subplots.AxesSubplot at 0x189ef4824c0>"
      ]
     },
     "execution_count": 17,
     "metadata": {},
     "output_type": "execute_result"
    },
    {
     "data": {
      "image/png": "[encoded data removed]",
      "text/plain": [
       "<Figure size 432x288 with 1 Axes>"
      ]
     },
     "metadata": {
      "needs_background": "light"
     },
     "output_type": "display_data"
    }
   ],
   "source": [
    "sns.countplot(x='Home_Ownership', hue='Loan_Status', data=df)"
   ]
  },
  {
   "cell_type": "code",
   "execution_count": 58,
   "metadata": {},
   "outputs": [
    {
     "data": {
      "text/plain": [
       "<matplotlib.axes._subplots.AxesSubplot at 0x2743577efd0>"
      ]
     },
     "execution_count": 58,
     "metadata": {},
     "output_type": "execute_result"
    },
    {
     "data": {
      "image/png": "[encoded data removed]",
      "text/plain": [
       "<Figure size 432x288 with 1 Axes>"
      ]
     },
     "metadata": {
      "needs_background": "light"
     },
     "output_type": "display_data"
    }
   ],
   "source": [
    "sns.countplot(x='Purpose', hue='Loan_Status', data=df)"
   ]
  },
  {
   "cell_type": "markdown",
   "metadata": {},
   "source": [
    "EDA based on Visualization of Numerical Attributes. "
   ]
  },
  {
   "cell_type": "markdown",
   "metadata": {},
   "source": [
    "Histograms\n",
    "Numerical variables with histograms,\n",
    "Categorical variables with count plots,\n",
    "Relationships between numerical variables with scatter plots, joint plots, and pair plots, and\n",
    "Relationships between numerical and categorical variables with box-and-whisker plots and complex conditional plots"
   ]
  },
  {
   "cell_type": "code",
   "execution_count": null,
   "metadata": {},
   "outputs": [],
   "source": [
    "#import matplotlib.pyplot as plt\n",
    "#bin_limit= [0,5000,10000, 15000, 20000,25000, 30000,35000, 40000]\n",
    "#plt.hist(df['Loan_Amount'], bins=bin_limit)"
   ]
  },
  {
   "cell_type": "code",
   "execution_count": 18,
   "metadata": {},
   "outputs": [
    {
     "data": {
      "image/png": "[encoded data removed]",
      "text/plain": [
       "<Figure size 1080x432 with 8 Axes>"
      ]
     },
     "metadata": {
      "needs_background": "light"
     },
     "output_type": "display_data"
    }
   ],
   "source": [
    "numerical = ['Emp_Length_Int', 'Annual_Income', 'Loan_Amount', 'Interest_Rate', 'DTI', 'Total_Payment', 'Installment', 'Total_Rec_Prncp']\n",
    "df[numerical].hist(bins=15, figsize=(15, 6), layout=(2, 4));"
   ]
  },
  {
   "cell_type": "code",
   "execution_count": 16,
   "metadata": {
    "scrolled": true
   },
   "outputs": [
    {
     "data": {
      "text/html": [
       "<div>\n",
       "<style scoped>\n",
       "    .dataframe tbody tr th:only-of-type {\n",
       "        vertical-align: middle;\n",
       "    }\n",
       "\n",
       "    .dataframe tbody tr th {\n",
       "        vertical-align: top;\n",
       "    }\n",
       "\n",
       "    .dataframe thead th {\n",
       "        text-align: right;\n",
       "    }\n",
       "</style>\n",
       "<table border=\"1\" class=\"dataframe\">\n",
       "  <thead>\n",
       "    <tr style=\"text-align: right;\">\n",
       "      <th></th>\n",
       "      <th>id</th>\n",
       "      <th>Issue_Date</th>\n",
       "      <th>Emp_Length_Int</th>\n",
       "      <th>Home_Ownership</th>\n",
       "      <th>Annual_Income</th>\n",
       "      <th>Loan_Amount</th>\n",
       "      <th>Term</th>\n",
       "      <th>Purpose</th>\n",
       "      <th>Interest_Payments</th>\n",
       "      <th>Loan_Status</th>\n",
       "      <th>Interest_Rate</th>\n",
       "      <th>DTI</th>\n",
       "      <th>Total_Payment</th>\n",
       "      <th>Total_Rec_Prncp</th>\n",
       "      <th>Installment</th>\n",
       "      <th>Region</th>\n",
       "    </tr>\n",
       "  </thead>\n",
       "  <tbody>\n",
       "    <tr>\n",
       "      <th>0</th>\n",
       "      <td>643218</td>\n",
       "      <td>01-12-2010</td>\n",
       "      <td>7.0</td>\n",
       "      <td>MORTGAGE</td>\n",
       "      <td>45000</td>\n",
       "      <td>20000.0</td>\n",
       "      <td>60 months</td>\n",
       "      <td>debt_consolidation</td>\n",
       "      <td>Low</td>\n",
       "      <td>1</td>\n",
       "      <td>9.99</td>\n",
       "      <td>13.36</td>\n",
       "      <td>24421.720000</td>\n",
       "      <td>20000.00</td>\n",
       "      <td>424.85</td>\n",
       "      <td>ulster</td>\n",
       "    </tr>\n",
       "    <tr>\n",
       "      <th>1</th>\n",
       "      <td>642872</td>\n",
       "      <td>01-12-2010</td>\n",
       "      <td>0.5</td>\n",
       "      <td>OWN</td>\n",
       "      <td>145000</td>\n",
       "      <td>7475.0</td>\n",
       "      <td>60 months</td>\n",
       "      <td>debt_consolidation</td>\n",
       "      <td>High</td>\n",
       "      <td>1</td>\n",
       "      <td>13.72</td>\n",
       "      <td>17.39</td>\n",
       "      <td>10370.742730</td>\n",
       "      <td>7475.00</td>\n",
       "      <td>172.85</td>\n",
       "      <td>leinster</td>\n",
       "    </tr>\n",
       "    <tr>\n",
       "      <th>2</th>\n",
       "      <td>642861</td>\n",
       "      <td>01-12-2010</td>\n",
       "      <td>0.5</td>\n",
       "      <td>MORTGAGE</td>\n",
       "      <td>120000</td>\n",
       "      <td>5575.0</td>\n",
       "      <td>36 months</td>\n",
       "      <td>small_business</td>\n",
       "      <td>High</td>\n",
       "      <td>1</td>\n",
       "      <td>15.20</td>\n",
       "      <td>16.40</td>\n",
       "      <td>6819.090000</td>\n",
       "      <td>5574.99</td>\n",
       "      <td>193.81</td>\n",
       "      <td>Northern-Irl</td>\n",
       "    </tr>\n",
       "    <tr>\n",
       "      <th>3</th>\n",
       "      <td>642859</td>\n",
       "      <td>01-12-2010</td>\n",
       "      <td>0.5</td>\n",
       "      <td>RENT</td>\n",
       "      <td>120000</td>\n",
       "      <td>2150.0</td>\n",
       "      <td>60 months</td>\n",
       "      <td>debt_consolidation</td>\n",
       "      <td>High</td>\n",
       "      <td>1</td>\n",
       "      <td>14.83</td>\n",
       "      <td>6.16</td>\n",
       "      <td>2816.830000</td>\n",
       "      <td>2150.00</td>\n",
       "      <td>50.96</td>\n",
       "      <td>Northern-Irl</td>\n",
       "    </tr>\n",
       "    <tr>\n",
       "      <th>4</th>\n",
       "      <td>642857</td>\n",
       "      <td>01-12-2010</td>\n",
       "      <td>0.5</td>\n",
       "      <td>MORTGAGE</td>\n",
       "      <td>140000</td>\n",
       "      <td>7050.0</td>\n",
       "      <td>60 months</td>\n",
       "      <td>moving</td>\n",
       "      <td>Low</td>\n",
       "      <td>1</td>\n",
       "      <td>12.98</td>\n",
       "      <td>4.26</td>\n",
       "      <td>9619.300001</td>\n",
       "      <td>7050.00</td>\n",
       "      <td>160.34</td>\n",
       "      <td>ulster</td>\n",
       "    </tr>\n",
       "  </tbody>\n",
       "</table>\n",
       "</div>"
      ],
      "text/plain": [
       "       id  Issue_Date  Emp_Length_Int Home_Ownership  Annual_Income  \\\n",
       "0  643218  01-12-2010             7.0       MORTGAGE          45000   \n",
       "1  642872  01-12-2010             0.5            OWN         145000   \n",
       "2  642861  01-12-2010             0.5       MORTGAGE         120000   \n",
       "3  642859  01-12-2010             0.5           RENT         120000   \n",
       "4  642857  01-12-2010             0.5       MORTGAGE         140000   \n",
       "\n",
       "   Loan_Amount        Term             Purpose Interest_Payments  Loan_Status  \\\n",
       "0      20000.0   60 months  debt_consolidation               Low            1   \n",
       "1       7475.0   60 months  debt_consolidation              High            1   \n",
       "2       5575.0   36 months      small_business              High            1   \n",
       "3       2150.0   60 months  debt_consolidation              High            1   \n",
       "4       7050.0   60 months              moving               Low            1   \n",
       "\n",
       "   Interest_Rate    DTI  Total_Payment  Total_Rec_Prncp  Installment  \\\n",
       "0           9.99  13.36   24421.720000         20000.00       424.85   \n",
       "1          13.72  17.39   10370.742730          7475.00       172.85   \n",
       "2          15.20  16.40    6819.090000          5574.99       193.81   \n",
       "3          14.83   6.16    2816.830000          2150.00        50.96   \n",
       "4          12.98   4.26    9619.300001          7050.00       160.34   \n",
       "\n",
       "         Region  \n",
       "0        ulster  \n",
       "1      leinster  \n",
       "2  Northern-Irl  \n",
       "3  Northern-Irl  \n",
       "4        ulster  "
      ]
     },
     "execution_count": 16,
     "metadata": {},
     "output_type": "execute_result"
    }
   ],
   "source": [
    "df.head()"
   ]
  },
  {
   "cell_type": "markdown",
   "metadata": {},
   "source": [
    "Correlation Matrix"
   ]
  },
  {
   "cell_type": "code",
   "execution_count": 19,
   "metadata": {},
   "outputs": [
    {
     "data": {
      "text/plain": [
       "[Text(68.09375, 0.5, 'Bank Loan Attribute\\t'),\n",
       " Text(0.5, 68.09375, 'Bank Loan Attributes'),\n",
       " Text(0.5, 1.0, 'Correlation matrix of Default Bank Loan\\n')]"
      ]
     },
     "execution_count": 19,
     "metadata": {},
     "output_type": "execute_result"
    },
    {
     "name": "stderr",
     "output_type": "stream",
     "text": [
      "C:\\ProgramData\\Anaconda3\\lib\\site-packages\\matplotlib\\backends\\backend_agg.py:214: RuntimeWarning: Glyph 9 missing from current font.\n",
      "  font.set_text(s, 0.0, flags=flags)\n",
      "C:\\ProgramData\\Anaconda3\\lib\\site-packages\\matplotlib\\backends\\backend_agg.py:183: RuntimeWarning: Glyph 9 missing from current font.\n",
      "  font.set_text(s, 0, flags=flags)\n"
     ]
    },
    {
     "data": {
      "image/png": "[encoded data removed]",
      "text/plain": [
       "<Figure size 720x720 with 2 Axes>"
      ]
     },
     "metadata": {
      "needs_background": "light"
     },
     "output_type": "display_data"
    }
   ],
   "source": [
    "corr = df.corr()\n",
    "plt.figure(figsize=(10,10))\n",
    "cm= sns.heatmap(corr, annot=True, cmap=\"BuPu\")\n",
    "cm.set(xlabel='Bank Loan Attributes', ylabel='Bank Loan Attribute\\t', title = \"Correlation matrix of Default Bank Loan\\n\")"
   ]
  },
  {
   "cell_type": "markdown",
   "metadata": {},
   "source": [
    "Drop Unnecessary and highly correlated columns!"
   ]
  },
  {
   "cell_type": "code",
   "execution_count": 16,
   "metadata": {},
   "outputs": [
    {
     "data": {
      "text/html": [
       "<div>\n",
       "<style scoped>\n",
       "    .dataframe tbody tr th:only-of-type {\n",
       "        vertical-align: middle;\n",
       "    }\n",
       "\n",
       "    .dataframe tbody tr th {\n",
       "        vertical-align: top;\n",
       "    }\n",
       "\n",
       "    .dataframe thead th {\n",
       "        text-align: right;\n",
       "    }\n",
       "</style>\n",
       "<table border=\"1\" class=\"dataframe\">\n",
       "  <thead>\n",
       "    <tr style=\"text-align: right;\">\n",
       "      <th></th>\n",
       "      <th>Emp_Length_Int</th>\n",
       "      <th>Home_Ownership</th>\n",
       "      <th>Annual_Income</th>\n",
       "      <th>Loan_Amount</th>\n",
       "      <th>Term</th>\n",
       "      <th>Purpose</th>\n",
       "      <th>Interest_Payments</th>\n",
       "      <th>Loan_Status</th>\n",
       "      <th>Interest_Rate</th>\n",
       "      <th>DTI</th>\n",
       "      <th>Total_Payment</th>\n",
       "      <th>Region</th>\n",
       "    </tr>\n",
       "  </thead>\n",
       "  <tbody>\n",
       "    <tr>\n",
       "      <th>0</th>\n",
       "      <td>7.0</td>\n",
       "      <td>MORTGAGE</td>\n",
       "      <td>45000</td>\n",
       "      <td>20000.0</td>\n",
       "      <td>60 months</td>\n",
       "      <td>debt_consolidation</td>\n",
       "      <td>Low</td>\n",
       "      <td>1</td>\n",
       "      <td>9.99</td>\n",
       "      <td>13.36</td>\n",
       "      <td>24421.720000</td>\n",
       "      <td>ulster</td>\n",
       "    </tr>\n",
       "    <tr>\n",
       "      <th>1</th>\n",
       "      <td>0.5</td>\n",
       "      <td>OWN</td>\n",
       "      <td>145000</td>\n",
       "      <td>7475.0</td>\n",
       "      <td>60 months</td>\n",
       "      <td>debt_consolidation</td>\n",
       "      <td>High</td>\n",
       "      <td>1</td>\n",
       "      <td>13.72</td>\n",
       "      <td>17.39</td>\n",
       "      <td>10370.742730</td>\n",
       "      <td>leinster</td>\n",
       "    </tr>\n",
       "    <tr>\n",
       "      <th>2</th>\n",
       "      <td>0.5</td>\n",
       "      <td>MORTGAGE</td>\n",
       "      <td>120000</td>\n",
       "      <td>5575.0</td>\n",
       "      <td>36 months</td>\n",
       "      <td>small_business</td>\n",
       "      <td>High</td>\n",
       "      <td>1</td>\n",
       "      <td>15.20</td>\n",
       "      <td>16.40</td>\n",
       "      <td>6819.090000</td>\n",
       "      <td>Northern-Irl</td>\n",
       "    </tr>\n",
       "    <tr>\n",
       "      <th>3</th>\n",
       "      <td>0.5</td>\n",
       "      <td>RENT</td>\n",
       "      <td>120000</td>\n",
       "      <td>2150.0</td>\n",
       "      <td>60 months</td>\n",
       "      <td>debt_consolidation</td>\n",
       "      <td>High</td>\n",
       "      <td>1</td>\n",
       "      <td>14.83</td>\n",
       "      <td>6.16</td>\n",
       "      <td>2816.830000</td>\n",
       "      <td>Northern-Irl</td>\n",
       "    </tr>\n",
       "    <tr>\n",
       "      <th>4</th>\n",
       "      <td>0.5</td>\n",
       "      <td>MORTGAGE</td>\n",
       "      <td>140000</td>\n",
       "      <td>7050.0</td>\n",
       "      <td>60 months</td>\n",
       "      <td>moving</td>\n",
       "      <td>Low</td>\n",
       "      <td>1</td>\n",
       "      <td>12.98</td>\n",
       "      <td>4.26</td>\n",
       "      <td>9619.300001</td>\n",
       "      <td>ulster</td>\n",
       "    </tr>\n",
       "  </tbody>\n",
       "</table>\n",
       "</div>"
      ],
      "text/plain": [
       "   Emp_Length_Int Home_Ownership  Annual_Income  Loan_Amount        Term  \\\n",
       "0             7.0       MORTGAGE          45000      20000.0   60 months   \n",
       "1             0.5            OWN         145000       7475.0   60 months   \n",
       "2             0.5       MORTGAGE         120000       5575.0   36 months   \n",
       "3             0.5           RENT         120000       2150.0   60 months   \n",
       "4             0.5       MORTGAGE         140000       7050.0   60 months   \n",
       "\n",
       "              Purpose Interest_Payments  Loan_Status  Interest_Rate    DTI  \\\n",
       "0  debt_consolidation               Low            1           9.99  13.36   \n",
       "1  debt_consolidation              High            1          13.72  17.39   \n",
       "2      small_business              High            1          15.20  16.40   \n",
       "3  debt_consolidation              High            1          14.83   6.16   \n",
       "4              moving               Low            1          12.98   4.26   \n",
       "\n",
       "   Total_Payment        Region  \n",
       "0   24421.720000        ulster  \n",
       "1   10370.742730      leinster  \n",
       "2    6819.090000  Northern-Irl  \n",
       "3    2816.830000  Northern-Irl  \n",
       "4    9619.300001        ulster  "
      ]
     },
     "execution_count": 16,
     "metadata": {},
     "output_type": "execute_result"
    }
   ],
   "source": [
    "df = df.drop(columns=[\"Total_Rec_Prncp\", \"Installment\", \"id\", \"Issue_Date\"], axis=1)   \n",
    "df.head()"
   ]
  },
  {
   "cell_type": "code",
   "execution_count": 21,
   "metadata": {},
   "outputs": [
    {
     "data": {
      "text/plain": [
       "(74181, 12)"
      ]
     },
     "execution_count": 21,
     "metadata": {},
     "output_type": "execute_result"
    }
   ],
   "source": [
    "df.shape"
   ]
  },
  {
   "cell_type": "markdown",
   "metadata": {},
   "source": [
    "Label Encoding is to change categorical into numerical value, is coded as follow:"
   ]
  },
  {
   "cell_type": "code",
   "execution_count": 17,
   "metadata": {},
   "outputs": [
    {
     "data": {
      "text/html": [
       "<div>\n",
       "<style scoped>\n",
       "    .dataframe tbody tr th:only-of-type {\n",
       "        vertical-align: middle;\n",
       "    }\n",
       "\n",
       "    .dataframe tbody tr th {\n",
       "        vertical-align: top;\n",
       "    }\n",
       "\n",
       "    .dataframe thead th {\n",
       "        text-align: right;\n",
       "    }\n",
       "</style>\n",
       "<table border=\"1\" class=\"dataframe\">\n",
       "  <thead>\n",
       "    <tr style=\"text-align: right;\">\n",
       "      <th></th>\n",
       "      <th>Emp_Length_Int</th>\n",
       "      <th>Home_Ownership</th>\n",
       "      <th>Annual_Income</th>\n",
       "      <th>Loan_Amount</th>\n",
       "      <th>Term</th>\n",
       "      <th>Purpose</th>\n",
       "      <th>Interest_Payments</th>\n",
       "      <th>Loan_Status</th>\n",
       "      <th>Interest_Rate</th>\n",
       "      <th>DTI</th>\n",
       "      <th>Total_Payment</th>\n",
       "      <th>Region</th>\n",
       "    </tr>\n",
       "  </thead>\n",
       "  <tbody>\n",
       "    <tr>\n",
       "      <th>0</th>\n",
       "      <td>7.0</td>\n",
       "      <td>1</td>\n",
       "      <td>45000</td>\n",
       "      <td>20000.0</td>\n",
       "      <td>60 months</td>\n",
       "      <td>debt_consolidation</td>\n",
       "      <td>0</td>\n",
       "      <td>1</td>\n",
       "      <td>9.99</td>\n",
       "      <td>13.36</td>\n",
       "      <td>24421.720000</td>\n",
       "      <td>5</td>\n",
       "    </tr>\n",
       "    <tr>\n",
       "      <th>1</th>\n",
       "      <td>0.5</td>\n",
       "      <td>2</td>\n",
       "      <td>145000</td>\n",
       "      <td>7475.0</td>\n",
       "      <td>60 months</td>\n",
       "      <td>debt_consolidation</td>\n",
       "      <td>2</td>\n",
       "      <td>1</td>\n",
       "      <td>13.72</td>\n",
       "      <td>17.39</td>\n",
       "      <td>10370.742730</td>\n",
       "      <td>1</td>\n",
       "    </tr>\n",
       "    <tr>\n",
       "      <th>2</th>\n",
       "      <td>0.5</td>\n",
       "      <td>1</td>\n",
       "      <td>120000</td>\n",
       "      <td>5575.0</td>\n",
       "      <td>36 months</td>\n",
       "      <td>small_business</td>\n",
       "      <td>2</td>\n",
       "      <td>1</td>\n",
       "      <td>15.20</td>\n",
       "      <td>16.40</td>\n",
       "      <td>6819.090000</td>\n",
       "      <td>4</td>\n",
       "    </tr>\n",
       "    <tr>\n",
       "      <th>3</th>\n",
       "      <td>0.5</td>\n",
       "      <td>3</td>\n",
       "      <td>120000</td>\n",
       "      <td>2150.0</td>\n",
       "      <td>60 months</td>\n",
       "      <td>debt_consolidation</td>\n",
       "      <td>2</td>\n",
       "      <td>1</td>\n",
       "      <td>14.83</td>\n",
       "      <td>6.16</td>\n",
       "      <td>2816.830000</td>\n",
       "      <td>4</td>\n",
       "    </tr>\n",
       "    <tr>\n",
       "      <th>4</th>\n",
       "      <td>0.5</td>\n",
       "      <td>1</td>\n",
       "      <td>140000</td>\n",
       "      <td>7050.0</td>\n",
       "      <td>60 months</td>\n",
       "      <td>moving</td>\n",
       "      <td>0</td>\n",
       "      <td>1</td>\n",
       "      <td>12.98</td>\n",
       "      <td>4.26</td>\n",
       "      <td>9619.300001</td>\n",
       "      <td>5</td>\n",
       "    </tr>\n",
       "  </tbody>\n",
       "</table>\n",
       "</div>"
      ],
      "text/plain": [
       "   Emp_Length_Int  Home_Ownership  Annual_Income  Loan_Amount        Term  \\\n",
       "0             7.0               1          45000      20000.0   60 months   \n",
       "1             0.5               2         145000       7475.0   60 months   \n",
       "2             0.5               1         120000       5575.0   36 months   \n",
       "3             0.5               3         120000       2150.0   60 months   \n",
       "4             0.5               1         140000       7050.0   60 months   \n",
       "\n",
       "              Purpose  Interest_Payments  Loan_Status  Interest_Rate    DTI  \\\n",
       "0  debt_consolidation                  0            1           9.99  13.36   \n",
       "1  debt_consolidation                  2            1          13.72  17.39   \n",
       "2      small_business                  2            1          15.20  16.40   \n",
       "3  debt_consolidation                  2            1          14.83   6.16   \n",
       "4              moving                  0            1          12.98   4.26   \n",
       "\n",
       "   Total_Payment  Region  \n",
       "0   24421.720000       5  \n",
       "1   10370.742730       1  \n",
       "2    6819.090000       4  \n",
       "3    2816.830000       4  \n",
       "4    9619.300001       5  "
      ]
     },
     "execution_count": 17,
     "metadata": {},
     "output_type": "execute_result"
    }
   ],
   "source": [
    "#converting categorical into Numerical\n",
    "df.replace({\"Home_Ownership\":{'MORTGAGE':1,'OWN':2, 'RENT':3, 'OTHER':4}},inplace= True)\n",
    "df.replace({\"Interest_Payments\":{'Low':0,'High':2}},inplace= True)\n",
    "df.replace({\"Region\":{'cannught':0,'leinster':1, 'munster':2, 'Northern-Irl':4, 'ulster':5}},inplace= True)\n",
    "df.head()"
   ]
  },
  {
   "cell_type": "code",
   "execution_count": 32,
   "metadata": {
    "scrolled": true
   },
   "outputs": [
    {
     "data": {
      "text/plain": [
       "[Text(158.09375, 0.5, 'Bank Loan Attribute\\t'),\n",
       " Text(0.5, 68.09375, 'Bank Loan Attributes'),\n",
       " Text(0.5, 1.0, 'Correlation matrix of Default Bank Loan\\n')]"
      ]
     },
     "execution_count": 32,
     "metadata": {},
     "output_type": "execute_result"
    },
    {
     "data": {
      "image/png": "[encoded data removed]",
      "text/plain": [
       "<Figure size 1440x720 with 2 Axes>"
      ]
     },
     "metadata": {
      "needs_background": "light"
     },
     "output_type": "display_data"
    }
   ],
   "source": [
    "corr = df.corr()\n",
    "plt.figure(figsize=(20,10))\n",
    "cm= sns.heatmap(corr, annot=True, cmap=\"BuPu\")\n",
    "cm.set(xlabel='Bank Loan Attributes', ylabel='Bank Loan Attribute\\t', title = \"Correlation matrix of Default Bank Loan\\n\")"
   ]
  },
  {
   "cell_type": "code",
   "execution_count": 23,
   "metadata": {},
   "outputs": [
    {
     "data": {
      "text/html": [
       "<div>\n",
       "<style scoped>\n",
       "    .dataframe tbody tr th:only-of-type {\n",
       "        vertical-align: middle;\n",
       "    }\n",
       "\n",
       "    .dataframe tbody tr th {\n",
       "        vertical-align: top;\n",
       "    }\n",
       "\n",
       "    .dataframe thead th {\n",
       "        text-align: right;\n",
       "    }\n",
       "</style>\n",
       "<table border=\"1\" class=\"dataframe\">\n",
       "  <thead>\n",
       "    <tr style=\"text-align: right;\">\n",
       "      <th></th>\n",
       "      <th>Emp_Length_Int</th>\n",
       "      <th>Home_Ownership</th>\n",
       "      <th>Annual_Income</th>\n",
       "      <th>Loan_Amount</th>\n",
       "      <th>Interest_Payments</th>\n",
       "      <th>Loan_Status</th>\n",
       "      <th>Interest_Rate</th>\n",
       "      <th>DTI</th>\n",
       "      <th>Total_Payment</th>\n",
       "      <th>Region</th>\n",
       "      <th>...</th>\n",
       "      <th>Purpose_home_improvement</th>\n",
       "      <th>Purpose_house</th>\n",
       "      <th>Purpose_major_purchase</th>\n",
       "      <th>Purpose_medical</th>\n",
       "      <th>Purpose_moving</th>\n",
       "      <th>Purpose_other</th>\n",
       "      <th>Purpose_renewable_energy</th>\n",
       "      <th>Purpose_small_business</th>\n",
       "      <th>Purpose_vacation</th>\n",
       "      <th>Purpose_wedding</th>\n",
       "    </tr>\n",
       "  </thead>\n",
       "  <tbody>\n",
       "    <tr>\n",
       "      <th>0</th>\n",
       "      <td>7.0</td>\n",
       "      <td>1</td>\n",
       "      <td>45000</td>\n",
       "      <td>20000.0</td>\n",
       "      <td>0</td>\n",
       "      <td>1</td>\n",
       "      <td>9.99</td>\n",
       "      <td>13.36</td>\n",
       "      <td>24421.720000</td>\n",
       "      <td>5</td>\n",
       "      <td>...</td>\n",
       "      <td>0</td>\n",
       "      <td>0</td>\n",
       "      <td>0</td>\n",
       "      <td>0</td>\n",
       "      <td>0</td>\n",
       "      <td>0</td>\n",
       "      <td>0</td>\n",
       "      <td>0</td>\n",
       "      <td>0</td>\n",
       "      <td>0</td>\n",
       "    </tr>\n",
       "    <tr>\n",
       "      <th>1</th>\n",
       "      <td>0.5</td>\n",
       "      <td>2</td>\n",
       "      <td>145000</td>\n",
       "      <td>7475.0</td>\n",
       "      <td>2</td>\n",
       "      <td>1</td>\n",
       "      <td>13.72</td>\n",
       "      <td>17.39</td>\n",
       "      <td>10370.742730</td>\n",
       "      <td>1</td>\n",
       "      <td>...</td>\n",
       "      <td>0</td>\n",
       "      <td>0</td>\n",
       "      <td>0</td>\n",
       "      <td>0</td>\n",
       "      <td>0</td>\n",
       "      <td>0</td>\n",
       "      <td>0</td>\n",
       "      <td>0</td>\n",
       "      <td>0</td>\n",
       "      <td>0</td>\n",
       "    </tr>\n",
       "    <tr>\n",
       "      <th>2</th>\n",
       "      <td>0.5</td>\n",
       "      <td>1</td>\n",
       "      <td>120000</td>\n",
       "      <td>5575.0</td>\n",
       "      <td>2</td>\n",
       "      <td>1</td>\n",
       "      <td>15.20</td>\n",
       "      <td>16.40</td>\n",
       "      <td>6819.090000</td>\n",
       "      <td>4</td>\n",
       "      <td>...</td>\n",
       "      <td>0</td>\n",
       "      <td>0</td>\n",
       "      <td>0</td>\n",
       "      <td>0</td>\n",
       "      <td>0</td>\n",
       "      <td>0</td>\n",
       "      <td>0</td>\n",
       "      <td>1</td>\n",
       "      <td>0</td>\n",
       "      <td>0</td>\n",
       "    </tr>\n",
       "    <tr>\n",
       "      <th>3</th>\n",
       "      <td>0.5</td>\n",
       "      <td>3</td>\n",
       "      <td>120000</td>\n",
       "      <td>2150.0</td>\n",
       "      <td>2</td>\n",
       "      <td>1</td>\n",
       "      <td>14.83</td>\n",
       "      <td>6.16</td>\n",
       "      <td>2816.830000</td>\n",
       "      <td>4</td>\n",
       "      <td>...</td>\n",
       "      <td>0</td>\n",
       "      <td>0</td>\n",
       "      <td>0</td>\n",
       "      <td>0</td>\n",
       "      <td>0</td>\n",
       "      <td>0</td>\n",
       "      <td>0</td>\n",
       "      <td>0</td>\n",
       "      <td>0</td>\n",
       "      <td>0</td>\n",
       "    </tr>\n",
       "    <tr>\n",
       "      <th>4</th>\n",
       "      <td>0.5</td>\n",
       "      <td>1</td>\n",
       "      <td>140000</td>\n",
       "      <td>7050.0</td>\n",
       "      <td>0</td>\n",
       "      <td>1</td>\n",
       "      <td>12.98</td>\n",
       "      <td>4.26</td>\n",
       "      <td>9619.300001</td>\n",
       "      <td>5</td>\n",
       "      <td>...</td>\n",
       "      <td>0</td>\n",
       "      <td>0</td>\n",
       "      <td>0</td>\n",
       "      <td>0</td>\n",
       "      <td>1</td>\n",
       "      <td>0</td>\n",
       "      <td>0</td>\n",
       "      <td>0</td>\n",
       "      <td>0</td>\n",
       "      <td>0</td>\n",
       "    </tr>\n",
       "  </tbody>\n",
       "</table>\n",
       "<p>5 rows × 26 columns</p>\n",
       "</div>"
      ],
      "text/plain": [
       "   Emp_Length_Int  Home_Ownership  Annual_Income  Loan_Amount  \\\n",
       "0             7.0               1          45000      20000.0   \n",
       "1             0.5               2         145000       7475.0   \n",
       "2             0.5               1         120000       5575.0   \n",
       "3             0.5               3         120000       2150.0   \n",
       "4             0.5               1         140000       7050.0   \n",
       "\n",
       "   Interest_Payments  Loan_Status  Interest_Rate    DTI  Total_Payment  \\\n",
       "0                  0            1           9.99  13.36   24421.720000   \n",
       "1                  2            1          13.72  17.39   10370.742730   \n",
       "2                  2            1          15.20  16.40    6819.090000   \n",
       "3                  2            1          14.83   6.16    2816.830000   \n",
       "4                  0            1          12.98   4.26    9619.300001   \n",
       "\n",
       "   Region  ...  Purpose_home_improvement  Purpose_house  \\\n",
       "0       5  ...                         0              0   \n",
       "1       1  ...                         0              0   \n",
       "2       4  ...                         0              0   \n",
       "3       4  ...                         0              0   \n",
       "4       5  ...                         0              0   \n",
       "\n",
       "   Purpose_major_purchase  Purpose_medical  Purpose_moving  Purpose_other  \\\n",
       "0                       0                0               0              0   \n",
       "1                       0                0               0              0   \n",
       "2                       0                0               0              0   \n",
       "3                       0                0               0              0   \n",
       "4                       0                0               1              0   \n",
       "\n",
       "   Purpose_renewable_energy  Purpose_small_business  Purpose_vacation  \\\n",
       "0                         0                       0                 0   \n",
       "1                         0                       0                 0   \n",
       "2                         0                       1                 0   \n",
       "3                         0                       0                 0   \n",
       "4                         0                       0                 0   \n",
       "\n",
       "   Purpose_wedding  \n",
       "0                0  \n",
       "1                0  \n",
       "2                0  \n",
       "3                0  \n",
       "4                0  \n",
       "\n",
       "[5 rows x 26 columns]"
      ]
     },
     "execution_count": 23,
     "metadata": {},
     "output_type": "execute_result"
    }
   ],
   "source": [
    "#Emp length is float and home ownership( we already replaced with numerical value), purpose, and term are nominal values\n",
    "nominal_columns= [\"Term\", \"Purpose\"]\n",
    "dummy_df = pd.get_dummies(df[nominal_columns])\n",
    "df= pd.concat([df, dummy_df], axis=1)\n",
    "df= df.drop(nominal_columns, axis=1)\n",
    "df.head()\n"
   ]
  },
  {
   "cell_type": "code",
   "execution_count": 24,
   "metadata": {},
   "outputs": [
    {
     "name": "stdout",
     "output_type": "stream",
     "text": [
      "       Emp_Length_Int  Home_Ownership  Annual_Income  Loan_Amount  \\\n",
      "0                7.00               1          45000      20000.0   \n",
      "1                0.50               2         145000       7475.0   \n",
      "2                0.50               1         120000       5575.0   \n",
      "3                0.50               3         120000       2150.0   \n",
      "4                0.50               1         140000       7050.0   \n",
      "...               ...             ...            ...          ...   \n",
      "74176            7.00               3          60000      20500.0   \n",
      "74177            3.00               3          57600      15000.0   \n",
      "74178            3.00               1         160000      35000.0   \n",
      "74179            6.05               1          35000      12000.0   \n",
      "74180            7.00               3          50000      12000.0   \n",
      "\n",
      "       Interest_Payments  Interest_Rate    DTI  Total_Payment  Region  \\\n",
      "0                      0           9.99  13.36   24421.720000       5   \n",
      "1                      2          13.72  17.39   10370.742730       1   \n",
      "2                      2          15.20  16.40    6819.090000       4   \n",
      "3                      2          14.83   6.16    2816.830000       4   \n",
      "4                      0          12.98   4.26    9619.300001       5   \n",
      "...                  ...            ...    ...            ...     ...   \n",
      "74176                  2          16.77  16.40   26173.301130       4   \n",
      "74177                  2          15.27   8.35   18783.859440       5   \n",
      "74178                  2          15.96   4.90   44267.531700       5   \n",
      "74179                  2          16.29  12.93    2075.640000       2   \n",
      "74180                  2          15.27   5.50    8902.720000       1   \n",
      "\n",
      "       Term_ 36 months  ...  Purpose_home_improvement  Purpose_house  \\\n",
      "0                    0  ...                         0              0   \n",
      "1                    0  ...                         0              0   \n",
      "2                    1  ...                         0              0   \n",
      "3                    0  ...                         0              0   \n",
      "4                    0  ...                         0              0   \n",
      "...                ...  ...                       ...            ...   \n",
      "74176                1  ...                         0              0   \n",
      "74177                1  ...                         0              0   \n",
      "74178                1  ...                         0              0   \n",
      "74179                1  ...                         0              0   \n",
      "74180                0  ...                         0              0   \n",
      "\n",
      "       Purpose_major_purchase  Purpose_medical  Purpose_moving  Purpose_other  \\\n",
      "0                           0                0               0              0   \n",
      "1                           0                0               0              0   \n",
      "2                           0                0               0              0   \n",
      "3                           0                0               0              0   \n",
      "4                           0                0               1              0   \n",
      "...                       ...              ...             ...            ...   \n",
      "74176                       0                0               0              0   \n",
      "74177                       0                0               0              0   \n",
      "74178                       0                0               0              0   \n",
      "74179                       0                0               0              1   \n",
      "74180                       0                0               0              0   \n",
      "\n",
      "       Purpose_renewable_energy  Purpose_small_business  Purpose_vacation  \\\n",
      "0                             0                       0                 0   \n",
      "1                             0                       0                 0   \n",
      "2                             0                       1                 0   \n",
      "3                             0                       0                 0   \n",
      "4                             0                       0                 0   \n",
      "...                         ...                     ...               ...   \n",
      "74176                         0                       0                 0   \n",
      "74177                         0                       1                 0   \n",
      "74178                         0                       1                 0   \n",
      "74179                         0                       0                 0   \n",
      "74180                         0                       0                 0   \n",
      "\n",
      "       Purpose_wedding  \n",
      "0                    0  \n",
      "1                    0  \n",
      "2                    0  \n",
      "3                    0  \n",
      "4                    0  \n",
      "...                ...  \n",
      "74176                0  \n",
      "74177                0  \n",
      "74178                0  \n",
      "74179                0  \n",
      "74180                0  \n",
      "\n",
      "[74181 rows x 25 columns]\n",
      "0        1\n",
      "1        1\n",
      "2        1\n",
      "3        1\n",
      "4        1\n",
      "        ..\n",
      "74176    1\n",
      "74177    1\n",
      "74178    1\n",
      "74179    0\n",
      "74180    1\n",
      "Name: Loan_Status, Length: 74181, dtype: int64\n"
     ]
    }
   ],
   "source": [
    "#Separating Data and Label\n",
    "X=df.drop(columns=['Loan_Status'], axis=1)\n",
    "Y=df['Loan_Status']\n",
    "\n",
    "print(X)\n",
    "print(Y)"
   ]
  },
  {
   "cell_type": "code",
   "execution_count": 25,
   "metadata": {},
   "outputs": [
    {
     "name": "stdout",
     "output_type": "stream",
     "text": [
      "(74181, 25) (59344, 25) (14837, 25)\n",
      "(59344,)\n"
     ]
    }
   ],
   "source": [
    "#Split Data\n",
    "from sklearn.model_selection import train_test_split\n",
    "from sklearn.metrics import accuracy_score\n",
    "\n",
    "X_train, X_test, Y_train, Y_test= train_test_split(X,Y,test_size=0.2,stratify=Y,random_state=20)\n",
    "\n",
    "print(X.shape, X_train.shape, X_test.shape)\n",
    "print(Y_train.shape)"
   ]
  },
  {
   "cell_type": "code",
   "execution_count": null,
   "metadata": {},
   "outputs": [],
   "source": [
    "#Training the model- Support Vector Machine\n",
    "#from sklearn import svm\n",
    "#classifier = svm.SVC(kernel='linear')\n",
    "#classifier.fit(X_train,Y_train)"
   ]
  },
  {
   "cell_type": "code",
   "execution_count": null,
   "metadata": {},
   "outputs": [],
   "source": [
    "#Train Model\n",
    "#classifier.fit(X_train,Y_train)"
   ]
  },
  {
   "cell_type": "markdown",
   "metadata": {},
   "source": [
    "Model Training"
   ]
  },
  {
   "cell_type": "code",
   "execution_count": 26,
   "metadata": {},
   "outputs": [],
   "source": [
    "#classify function\n",
    "def classify (model, X, Y):\n",
    "    X_train, X_test, Y_train, Y_test= train_test_split(X,Y,test_size=0.2,stratify=Y,random_state=42)\n",
    "    model.fit(X_train, Y_train)\n",
    "    print(\"Accuracy is\", model.score(X_test, Y_test)*100)\n"
   ]
  },
  {
   "cell_type": "code",
   "execution_count": 27,
   "metadata": {},
   "outputs": [
    {
     "name": "stdout",
     "output_type": "stream",
     "text": [
      "Accuracy is 94.4260969198625\n"
     ]
    },
    {
     "name": "stderr",
     "output_type": "stream",
     "text": [
      "C:\\Users\\sharlin.kahlon\\AppData\\Roaming\\Python\\Python38\\site-packages\\sklearn\\linear_model\\_logistic.py:814: ConvergenceWarning: lbfgs failed to converge (status=1):\n",
      "STOP: TOTAL NO. of ITERATIONS REACHED LIMIT.\n",
      "\n",
      "Increase the number of iterations (max_iter) or scale the data as shown in:\n",
      "    https://scikit-learn.org/stable/modules/preprocessing.html\n",
      "Please also refer to the documentation for alternative solver options:\n",
      "    https://scikit-learn.org/stable/modules/linear_model.html#logistic-regression\n",
      "  n_iter_i = _check_optimize_result(\n"
     ]
    }
   ],
   "source": [
    "from sklearn.linear_model import LogisticRegression\n",
    "model= LogisticRegression()\n",
    "classify(model,X,Y)"
   ]
  },
  {
   "cell_type": "markdown",
   "metadata": {},
   "source": [
    "Decision Tree Classifier"
   ]
  },
  {
   "cell_type": "code",
   "execution_count": 28,
   "metadata": {},
   "outputs": [
    {
     "name": "stdout",
     "output_type": "stream",
     "text": [
      "Accuracy is 94.70917301341242\n"
     ]
    }
   ],
   "source": [
    "from sklearn.tree import DecisionTreeClassifier\n",
    "model= DecisionTreeClassifier()\n",
    "classify(model,X,Y)"
   ]
  },
  {
   "cell_type": "markdown",
   "metadata": {},
   "source": [
    "Random Forest"
   ]
  },
  {
   "cell_type": "code",
   "execution_count": 29,
   "metadata": {},
   "outputs": [
    {
     "name": "stdout",
     "output_type": "stream",
     "text": [
      "Accuracy is 95.63254027094426\n"
     ]
    }
   ],
   "source": [
    "from sklearn.ensemble import RandomForestClassifier\n",
    "model= RandomForestClassifier()\n",
    "classify(model,X,Y)"
   ]
  },
  {
   "cell_type": "markdown",
   "metadata": {},
   "source": [
    "Support Vector Machine"
   ]
  },
  {
   "cell_type": "code",
   "execution_count": 32,
   "metadata": {},
   "outputs": [
    {
     "name": "stdout",
     "output_type": "stream",
     "text": [
      "Accuracy is 93.72514659297701\n"
     ]
    }
   ],
   "source": [
    "from sklearn import svm\n",
    "from sklearn.svm import SVC\n",
    "model= svm.SVC()\n",
    "classify(model,X,Y)"
   ]
  },
  {
   "cell_type": "code",
   "execution_count": 64,
   "metadata": {},
   "outputs": [],
   "source": [
    "#X_train_Prediction = classifier.predict(X_train)\n",
    "#training_data_accuracy = accuracy_score(X_train_prediction, Y_train)\n",
    "#print('Accuracy:', training_data_accuracy)"
   ]
  },
  {
   "cell_type": "markdown",
   "metadata": {},
   "source": [
    "Confusion Matrix"
   ]
  },
  {
   "cell_type": "code",
   "execution_count": 30,
   "metadata": {},
   "outputs": [
    {
     "data": {
      "text/plain": [
       "RandomForestClassifier()"
      ]
     },
     "execution_count": 30,
     "metadata": {},
     "output_type": "execute_result"
    }
   ],
   "source": [
    "model= RandomForestClassifier()\n",
    "model.fit(X_train, Y_train)"
   ]
  },
  {
   "cell_type": "code",
   "execution_count": 31,
   "metadata": {},
   "outputs": [
    {
     "data": {
      "text/plain": [
       "array([[ 1637,   680],\n",
       "       [   49, 12471]], dtype=int64)"
      ]
     },
     "execution_count": 31,
     "metadata": {},
     "output_type": "execute_result"
    }
   ],
   "source": [
    "from sklearn.metrics import confusion_matrix\n",
    "y_pred = model.predict(X_test)\n",
    "cm= confusion_matrix(Y_test, y_pred)\n",
    "cm"
   ]
  },
  {
   "cell_type": "code",
   "execution_count": 32,
   "metadata": {},
   "outputs": [
    {
     "data": {
      "text/plain": [
       "<matplotlib.axes._subplots.AxesSubplot at 0x1b03d18a5e0>"
      ]
     },
     "execution_count": 32,
     "metadata": {},
     "output_type": "execute_result"
    },
    {
     "data": {
      "image/png": "[encoded data removed]",
      "text/plain": [
       "<Figure size 432x288 with 2 Axes>"
      ]
     },
     "metadata": {
      "needs_background": "light"
     },
     "output_type": "display_data"
    }
   ],
   "source": [
    "sns.heatmap(cm, annot= True, fmt= 'd')"
   ]
  }
 ],
 "metadata": {
  "kernelspec": {
   "display_name": "Python 3",
   "language": "python",
   "name": "python3"
  },
  "language_info": {
   "codemirror_mode": {
    "name": "ipython",
    "version": 3
   },
   "file_extension": ".py",
   "mimetype": "text/x-python",
   "name": "python",
   "nbconvert_exporter": "python",
   "pygments_lexer": "ipython3",
   "version": "3.8.3"
  }
 },
 "nbformat": 4,
 "nbformat_minor": 4
}
